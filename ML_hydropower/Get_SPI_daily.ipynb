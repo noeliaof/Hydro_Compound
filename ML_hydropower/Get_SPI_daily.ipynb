{
 "cells": [
  {
   "cell_type": "code",
   "execution_count": 1,
   "id": "3a63336b-25d8-41bd-b86b-4f276bf59098",
   "metadata": {},
   "outputs": [
    {
     "name": "stderr",
     "output_type": "stream",
     "text": [
      "/Users/noeliaotero/opt/anaconda3/envs/py39/lib/python3.9/site-packages/seaborn/apionly.py:9: UserWarning: As seaborn no longer sets a default style on import, the seaborn.apionly module is deprecated. It will be removed in a future version.\n",
      "  warnings.warn(msg, UserWarning)\n"
     ]
    }
   ],
   "source": [
    "# Import libraries\n",
    "import pandas as pd\n",
    "import geopandas as gpd\n",
    "# Operations on geometries\n",
    "import shapely\n",
    "import numpy as np\n",
    "from numpy import nan\n",
    "import math\n",
    "import glob \n",
    "import xarray as xr\n",
    "import xarray\n",
    "import matplotlib.pyplot as plt\n",
    "from matplotlib import pyplot\n",
    "import seaborn as sns\n",
    "import tensorflow as tf\n",
    "import statsmodels.api as sm\n",
    "import xgboost\n",
    "import xgboost as xgb\n",
    "import csv as csv\n",
    "from xgboost import XGBRegressor\n",
    "from xgboost import plot_importance\n",
    "from sklearn import linear_model\n",
    "from sklearn.model_selection import cross_val_score,KFold\n",
    "from sklearn.model_selection import train_test_split\n",
    "from sklearn.preprocessing import MinMaxScaler\n",
    "from sklearn.metrics import mean_absolute_error,mean_squared_error\n",
    "from sklearn.model_selection import TimeSeriesSplit,GridSearchCV\n",
    "from sklearn.model_selection import cross_validate\n",
    "\n",
    "from sklearn.linear_model import LinearRegression\n",
    "from sklearn.neural_network import MLPRegressor\n",
    "from sklearn.neighbors import KNeighborsRegressor\n",
    "from sklearn.ensemble import RandomForestRegressor  #Perforing grid search\n",
    "from sklearn.ensemble import RandomForestClassifier\n",
    "from sklearn.svm import SVR\n",
    "from sklearn.model_selection import cross_val_score\n",
    "from sklearn.metrics import accuracy_score, confusion_matrix, classification_report\n",
    "from sklearn.neighbors import KNeighborsClassifier\n",
    "from sklearn.metrics import roc_auc_score\n",
    "from sklearn import datasets, metrics, model_selection\n",
    "\n",
    "\n",
    "import scipy\n",
    "from scipy import stats\n",
    "import os\n",
    "\n",
    "import matplotlib.pyplot as plt\n",
    "\n",
    "from scipy.stats import skew\n",
    "from collections import OrderedDict\n",
    "\n",
    "from utils_functions.utils_data import *\n",
    "from utils_functions.utils_ml import *\n",
    "from utils_functions.utils_RF import *\n",
    "from utils_functions.utils_plot import *"
   ]
  },
  {
   "cell_type": "code",
   "execution_count": 5,
   "id": "6e72ca6a-7783-46f0-a81d-35a99fd2d37f",
   "metadata": {},
   "outputs": [],
   "source": [
    "PATH_dir = '/Users/noeliaotero/Documents/OCCR/data/Output_data/csv/outmodels/Classical/meteo_IDdischarge/daily/'\n",
    "PATH_dir_v1 = '/Users/noeliaotero/Documents/OCCR/data/Output_data/csv/outmodels/Classical/version_HP_catch/'\n",
    "PATH_data_out = '/Users/noeliaotero/Documents/OCCR/data/Output_data/csv/outmodels/Classical/meteo_IDdischarge/daily/'\n",
    "PATH_data_fout = '/Users/noeliaotero/Documents/OCCR/data/Output_data/csv/outmodels/Classical/meteo_HPcatch/daily/'"
   ]
  },
  {
   "cell_type": "code",
   "execution_count": 6,
   "id": "cdbc2fd3-708a-466d-957b-ec47007ac791",
   "metadata": {},
   "outputs": [],
   "source": [
    "list_data = readfiles(PATH_dir)\n",
    "list_data_HP = readfiles(PATH_dir_v1)"
   ]
  },
  {
   "cell_type": "code",
   "execution_count": 7,
   "id": "ef771561-8b2a-4bab-b4a8-16cf01986a9b",
   "metadata": {},
   "outputs": [
    {
     "data": {
      "text/plain": [
       "Index(['date', 'eic_g', 'name_p', 'ID6', 'ID', 'EZG_km2', 'lon', 'lat',\n",
       "       'eic_p', 'type_g', 'discharge', 'discharge_mmd', 'hp',\n",
       "       'PowerSystemResourceName', 'name_g', 'ActualGenerationOutput',\n",
       "       'InstalledGenCapacity', 'capacity_p', 'generation', 't2m', 't2mmax',\n",
       "       'prec', 'prec7D', 'prec15D', 'prec30D', 't2max7D', 't2max15D',\n",
       "       't2max30D', 't2m7D', 't2m15D', 't2m30D', 'dis7D', 'dis15D', 'dis30D',\n",
       "       'month', 'season', 'spei_1', 'spei_3', 'spei_6', 'spei_12', 'STI_1',\n",
       "       'STI_2', 'STI_3', 'pred_linear', 'pred_randomforest',\n",
       "       'pred_rf_Predefinesplit'],\n",
       "      dtype='object')"
      ]
     },
     "execution_count": 7,
     "metadata": {},
     "output_type": "execute_result"
    }
   ],
   "source": [
    "list_data[0].columns"
   ]
  },
  {
   "cell_type": "code",
   "execution_count": 8,
   "id": "3dda9c3f-9801-41a3-b3c0-87f330dd3c09",
   "metadata": {},
   "outputs": [],
   "source": [
    "import pandas as pd\n",
    "from standard_precip.spi import SPI\n",
    "from standard_precip.utils import plot_index"
   ]
  },
  {
   "cell_type": "code",
   "execution_count": 9,
   "id": "8b3b40bc-70c3-483a-9bf5-e0ff1b1784ec",
   "metadata": {},
   "outputs": [],
   "source": [
    "def get_daily_spi(mydat, vv):\n",
    "    \n",
    "    if (vv == 'discharge'):\n",
    "        nv = ['SSID', 'SSI1', 'SSI3']\n",
    "    else:\n",
    "        nv = ['SPID', 'SPI1', 'SPI3']\n",
    "    print(nv)\n",
    "    \n",
    "    spi = SPI()\n",
    "    # daily\n",
    "    df_spi = spi.calculate(mydat, 'date', vv, freq=\"D\", scale=1, fit_type=\"lmom\", dist_type=\"gam\")\n",
    "    #df_spiD = df_spi[['date','prec_calculated_index']]\n",
    "    df_spiD = df_spi.drop(vv, axis=1)\n",
    "    df_spiD.columns = ['date', nv[0]]\n",
    "    # 1month\n",
    "    df_spi_1 = spi.calculate(mydat, 'date', vv, freq=\"D\", scale=30, fit_type=\"lmom\", dist_type=\"gam\")\n",
    "    df_spi_1 = df_spi_1.drop(vv+'_scale_30', axis=1)\n",
    "    df_spi_1.columns = ['date', nv[1]]\n",
    "    # 3-month\n",
    "    df_spi_3 = spi.calculate(mydat, 'date', vv, freq=\"D\", scale=3*30, fit_type=\"lmom\", dist_type=\"gam\")\n",
    "    df_spi_3 = df_spi_3.drop(vv+'_scale_90', axis=1)\n",
    "    df_spi_3.columns = ['date', nv[2]]\n",
    "    # merge all\n",
    "    dfs =[df_spiD, df_spi_1, df_spi_3]\n",
    "    df_all = pd.concat(dfs, join='outer', axis=1)\n",
    "    df_all = df_all[['date', nv[0], nv[1], nv[2]]]\n",
    "    df_all= df_all.loc[:,~df_all.columns.duplicated()]\n",
    "    \n",
    "    return df_all\n",
    "    "
   ]
  },
  {
   "cell_type": "code",
   "execution_count": 10,
   "id": "a58e71b9-9344-44b7-a13a-1e71e0c3e572",
   "metadata": {
    "tags": []
   },
   "outputs": [
    {
     "name": "stdout",
     "output_type": "stream",
     "text": [
      "['SPID', 'SPI1', 'SPI3']\n",
      "['SSID', 'SSI1', 'SSI3']\n",
      "['SPID', 'SPI1', 'SPI3']\n",
      "['SSID', 'SSI1', 'SSI3']\n",
      "['SPID', 'SPI1', 'SPI3']\n",
      "['SSID', 'SSI1', 'SSI3']\n",
      "['SPID', 'SPI1', 'SPI3']\n",
      "['SSID', 'SSI1', 'SSI3']\n",
      "['SPID', 'SPI1', 'SPI3']\n",
      "['SSID', 'SSI1', 'SSI3']\n",
      "['SPID', 'SPI1', 'SPI3']\n",
      "['SSID', 'SSI1', 'SSI3']\n"
     ]
    }
   ],
   "source": [
    "for i in range(0, len(list_data)):\n",
    "    dat = list_data[i]\n",
    "    dat.date = pd.to_datetime(dat.date)\n",
    "    dd = dat.copy()\n",
    "    df_index = get_daily_spi(dd, 'prec')\n",
    "    df_ss_index = get_daily_spi(dd, 'discharge')\n",
    "    new_dat = pd.merge(dat, df_index, on='date')\n",
    "    new_dat =  pd.merge(new_dat, df_ss_index, on='date')\n",
    "    # save the files\n",
    "    name_s = dat.name_p.unique()\n",
    "    name_s = [x for x in name_s if x is not nan]\n",
    "    name_s = ''.join(name_s)\n",
    "    #new_dat.to_csv(PATH_data_fout  + name_s +'.csv', header=True, index=False)\n",
    "    new_dat.to_csv(PATH_data_out  + name_s +'.csv', header=True, index=False)\n",
    "    "
   ]
  },
  {
   "cell_type": "code",
   "execution_count": null,
   "id": "3860d76c-3fa0-41cd-8b34-0ed7be03a097",
   "metadata": {},
   "outputs": [],
   "source": []
  }
 ],
 "metadata": {
  "kernelspec": {
   "display_name": "py39",
   "language": "python",
   "name": "py39"
  },
  "language_info": {
   "codemirror_mode": {
    "name": "ipython",
    "version": 3
   },
   "file_extension": ".py",
   "mimetype": "text/x-python",
   "name": "python",
   "nbconvert_exporter": "python",
   "pygments_lexer": "ipython3",
   "version": "3.9.7"
  }
 },
 "nbformat": 4,
 "nbformat_minor": 5
}
