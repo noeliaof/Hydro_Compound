{
 "cells": [
  {
   "cell_type": "code",
   "execution_count": 1,
   "id": "4a2f53b2-e341-41b2-b1f5-abc63c3aba16",
   "metadata": {},
   "outputs": [],
   "source": [
    "# Project simuluated HP\n",
    "# Import packages"
   ]
  },
  {
   "cell_type": "code",
   "execution_count": 1,
   "id": "b6903ebe-3023-4171-8673-a9a0741b6adb",
   "metadata": {},
   "outputs": [
    {
     "name": "stderr",
     "output_type": "stream",
     "text": [
      "/Users/noeliaotero/opt/anaconda3/envs/py39/lib/python3.9/site-packages/seaborn/apionly.py:9: UserWarning: As seaborn no longer sets a default style on import, the seaborn.apionly module is deprecated. It will be removed in a future version.\n",
      "  warnings.warn(msg, UserWarning)\n"
     ]
    }
   ],
   "source": [
    "# Import libraries\n",
    "import pandas as pd\n",
    "import geopandas as gpd\n",
    "# Operations on geometries\n",
    "import shapely\n",
    "import numpy as np\n",
    "from numpy import nan\n",
    "import math\n",
    "import glob \n",
    "import xarray as xr\n",
    "import xarray\n",
    "import matplotlib.pyplot as plt\n",
    "from matplotlib import pyplot\n",
    "import seaborn as sns\n",
    "import tensorflow as tf\n",
    "import statsmodels.api as sm\n",
    "import xgboost\n",
    "import xgboost as xgb\n",
    "import csv as csv\n",
    "from xgboost import XGBRegressor\n",
    "from xgboost import plot_importance\n",
    "from sklearn import linear_model\n",
    "from sklearn.model_selection import cross_val_score,KFold\n",
    "from sklearn.model_selection import train_test_split\n",
    "from sklearn.preprocessing import MinMaxScaler\n",
    "from sklearn.metrics import mean_absolute_error,mean_squared_error\n",
    "from sklearn.model_selection import TimeSeriesSplit,GridSearchCV\n",
    "from sklearn.model_selection import cross_validate\n",
    "\n",
    "from sklearn.linear_model import LinearRegression\n",
    "from sklearn.neural_network import MLPRegressor\n",
    "from sklearn.neighbors import KNeighborsRegressor\n",
    "from sklearn.ensemble import RandomForestRegressor  #Perforing grid search\n",
    "from sklearn.ensemble import RandomForestClassifier\n",
    "from sklearn.svm import SVR\n",
    "from sklearn.model_selection import cross_val_score\n",
    "from sklearn.metrics import accuracy_score, confusion_matrix, classification_report\n",
    "from sklearn.neighbors import KNeighborsClassifier\n",
    "from sklearn.metrics import roc_auc_score\n",
    "from sklearn import datasets, metrics, model_selection\n",
    "from yellowbrick.regressor import residuals_plot\n",
    "\n",
    "\n",
    "import scipy\n",
    "from scipy import stats\n",
    "import os\n",
    "\n",
    "import matplotlib.pyplot as plt\n",
    "\n",
    "from scipy.stats import skew\n",
    "from collections import OrderedDict\n",
    "\n",
    "import _pickle as cPickle\n",
    "\n",
    "import math\n",
    "import keras\n",
    "from keras.models import Sequential\n",
    "from keras.layers import Dense\n",
    "from keras.layers import LSTM\n",
    "from keras.layers import Dropout\n",
    "from keras.callbacks import EarlyStopping\n",
    "\n",
    "from utils_functions.utils_data import *\n",
    "from utils_functions.utils_ml import *\n",
    "from utils_functions.utils_RF import *\n",
    "from utils_functions.utils_plot import *"
   ]
  },
  {
   "cell_type": "code",
   "execution_count": 2,
   "id": "fe785e07-abb9-40d9-8da3-4893f5edb084",
   "metadata": {},
   "outputs": [],
   "source": [
    "# change paths if needed\n",
    "PATH =  '/Users/noeliaotero/Documents/OCCR/data/Output_data/csv/outmodels/simulations_PREVAH/Classical_withdoi/models/'\n",
    "PATH_pip =  '/Users/noeliaotero/Documents/OCCR/data/Output_data/csv/outmodels/simulations_PREVAH/Classical_withdoi/pipelines/'\n",
    "PATH_OUT = '/Users/noeliaotero/Documents/OCCR/data/Output_data/csv/outmodels_standard_HISTORICAL//climate_rcp_simulations/RF_predsplit_CH2018_withdoi/'\n"
   ]
  },
  {
   "cell_type": "code",
   "execution_count": 3,
   "id": "8aee5484-c503-44b4-9ed8-046c828dd89b",
   "metadata": {},
   "outputs": [],
   "source": [
    "# also select the covariates according to the model used\n",
    "\n",
    "colnames = ['date', 't2m','prec', 'prec7D', 'prec15D', 'prec30D', 't2m7D', 't2m15D',\n",
    "       't2m30D','PREVAH','PREVAH7D', 'PREVAH15D', 'PREVAH30D','doi']\n",
    "Features = ['t2m','prec', 'prec7D', 'prec15D', 'prec30D', 't2m7D', 't2m15D',\n",
    "       't2m30D','PREVAH','PREVAH7D', 'PREVAH15D', 'PREVAH30D','doi']"
   ]
  },
  {
   "cell_type": "code",
   "execution_count": 4,
   "id": "a6ddb220-79ac-44b4-8485-f3da96d1c72a",
   "metadata": {},
   "outputs": [],
   "source": [
    "# test: remove temperature\n",
    "#colnames = ['date', \n",
    "#           'PREVAH','PREVAH7D', 'PREVAH15D', 'PREVAH30D','doi']\n",
    "#Features = ['PREVAH','PREVAH7D', 'PREVAH15D', 'PREVAH30D','doi']"
   ]
  },
  {
   "cell_type": "code",
   "execution_count": 5,
   "id": "9d421984-cdde-49ee-a3fb-ccf7374debd1",
   "metadata": {},
   "outputs": [],
   "source": [
    "# Load RCP projections\n",
    "PATH_CH2018 = '/Users/noeliaotero/Documents/OCCR/data/Output_data/csv/data_CH2018_tomodel/'\n",
    "\n",
    "os.makedirs(PATH_OUT, exist_ok = True)"
   ]
  },
  {
   "cell_type": "code",
   "execution_count": 6,
   "id": "3cda2fed-5228-4cc9-97c9-034e7bdcec0f",
   "metadata": {},
   "outputs": [],
   "source": [
    "names_pw = os.listdir(PATH_CH2018)"
   ]
  },
  {
   "cell_type": "code",
   "execution_count": 7,
   "id": "533b1f7e-dfcd-4389-beee-a5eb88217807",
   "metadata": {
    "tags": []
   },
   "outputs": [
    {
     "data": {
      "text/plain": [
       "['AET Leventina',\n",
       " 'Emosson (ESA)',\n",
       " 'Blenio (OFIBLE)',\n",
       " 'Kraftwerke Mauvoisin AG',\n",
       " 'KW Rheinfelden CH',\n",
       " 'Electra-Massa (EM)']"
      ]
     },
     "execution_count": 7,
     "metadata": {},
     "output_type": "execute_result"
    }
   ],
   "source": [
    "names_pw"
   ]
  },
  {
   "cell_type": "code",
   "execution_count": 8,
   "id": "3a20e1b6-b6e1-4c2a-9991-4132307a6158",
   "metadata": {},
   "outputs": [],
   "source": [
    "# load the models from historical conditions"
   ]
  },
  {
   "cell_type": "code",
   "execution_count": 9,
   "id": "78d06d3c-3053-47a3-ad45-6901cf2202ac",
   "metadata": {},
   "outputs": [],
   "source": [
    "nfiles = os.listdir(PATH)\n",
    "# only select randomforest (best model-generally)\n",
    "# I will select \"rf_Predefinesplit\" --check also rf"
   ]
  },
  {
   "cell_type": "code",
   "execution_count": 10,
   "id": "01c72c83-b165-4ae7-b981-b8a7165e5f8f",
   "metadata": {
    "tags": []
   },
   "outputs": [],
   "source": [
    "rf_mod = []\n",
    "names_mod = []\n",
    "method = \"rf_Predefinesplit\"\n",
    "for i in range(0, len(nfiles)):\n",
    "    ifile = [method in i for i in nfiles] \n",
    "    if ifile[i]:\n",
    "        #print(nfiles[i])\n",
    "        with open(PATH + nfiles[i], 'rb') as fid:\n",
    "            model = cPickle.load(fid)\n",
    "        rf_mod.append(model)\n",
    "        names_mod.append(nfiles[i].split(\"_\")[0])\n",
    "        "
   ]
  },
  {
   "cell_type": "code",
   "execution_count": 11,
   "id": "a79a2407-909c-4f75-bd50-bc2f623a6942",
   "metadata": {},
   "outputs": [
    {
     "data": {
      "text/plain": [
       "['Blenio (OFIBLE)',\n",
       " 'Electra-Massa (EM)',\n",
       " 'AET Leventina',\n",
       " 'KW Rheinfelden CH',\n",
       " 'Kraftwerke Mauvoisin AG',\n",
       " 'Emosson (ESA)']"
      ]
     },
     "execution_count": 11,
     "metadata": {},
     "output_type": "execute_result"
    }
   ],
   "source": [
    "names_mod"
   ]
  },
  {
   "cell_type": "code",
   "execution_count": 12,
   "id": "9c6991af-ab9b-46ae-a4fe-3f57316575fb",
   "metadata": {},
   "outputs": [],
   "source": [
    "# Open pipelines\n",
    "import joblib\n",
    "pipfiles = os.listdir(PATH_pip)\n",
    "# sort the list as names_mod\n",
    "n = [0,3,4,1,2,5]\n",
    "pipfiles_list = [pipfiles[i] for i in n]\n",
    "l_fpipelines = []\n",
    "for i in range(0, len(pipfiles_list)): \n",
    "    #with open(PATH_pip + pipfiles[i], 'rb') as fid:\n",
    "    pip = joblib.load(PATH_pip + pipfiles_list[i])\n",
    "    l_fpipelines.append(pip)\n",
    "    "
   ]
  },
  {
   "cell_type": "code",
   "execution_count": 13,
   "id": "3f8114ba-d2d7-4f68-a88e-8367a9d99dcd",
   "metadata": {},
   "outputs": [
    {
     "data": {
      "text/plain": [
       "['Blenio (OFIBLE).pkl',\n",
       " 'Electra-Massa (EM).pkl',\n",
       " 'AET Leventina.pkl',\n",
       " 'KW Rheinfelden CH.pkl',\n",
       " 'Kraftwerke Mauvoisin AG.pkl',\n",
       " 'Emosson (ESA).pkl']"
      ]
     },
     "execution_count": 13,
     "metadata": {},
     "output_type": "execute_result"
    }
   ],
   "source": [
    "pipfiles_list"
   ]
  },
  {
   "cell_type": "code",
   "execution_count": 44,
   "id": "e62f289f-d0ec-4b4d-8651-14afff29c6cc",
   "metadata": {},
   "outputs": [],
   "source": [
    "def get_predictions (PATH_CH2018, rf_model, nam_mod, Features, PATH_OUT, mypipeline = None):\n",
    "    \"\"\"Get the predictions based on the RF model from the historical period\n",
    "       Args: PATH_CH2018: directory with the files\n",
    "             nam_mod: name of the model/station\"\"\"\n",
    "\n",
    " \n",
    "    basenames = os.listdir(PATH_CH2018 + nam_mod)\n",
    "    name_ch = [os.path.splitext(x)[0] for x in basenames]\n",
    "\n",
    "    \n",
    "    x = readfiles(PATH_CH2018 + nam_mod)\n",
    "    m = rf_model\n",
    "    l_predictions = []\n",
    "    \n",
    "    for i in range(0, len(name_ch)):\n",
    "        print(i)\n",
    "      \n",
    "        #print(x[i].head())\n",
    "        #if (x[i].name_p.unique()[0] != nam_mod):\n",
    "        #    raise Exception('Something is not matching!')\n",
    "        df = x[i]\n",
    "        \n",
    "        df_new = df.rename({'discharge': 'PREVAH', 'dis7D': 'PREVAH7D', 'dis15D': 'PREVAH15D','dis30D': 'PREVAH30D'},axis='columns')\n",
    "        df_new[\"date\"] = pd.to_datetime(df_new[\"date\"])\n",
    "        # create the doi\n",
    "        # add day of the year\n",
    "        df_new['doi'] = df_new.date.dt.dayofyear\n",
    "        \n",
    "        df_ref = df_new[(df_new.date.dt.year >= 1981) &  (df_new.date.dt.year <= 2021)]\n",
    "        df_proj_ref = df_ref[Features]\n",
    "        df_proj= df_new[Features]\n",
    "        # scale the data\n",
    "        if mypipeline == None:\n",
    "            # select the same period 1981-2021 to scale\n",
    "            #fpipeline = prepareData(df_proj)\n",
    "            fpipeline = prepareData(df_proj_ref)\n",
    "            X_proj = fpipeline.fit_transform(df_proj)\n",
    "        elif mypipeline == 'FullRCP':\n",
    "            fpipeline = prepareData(df_proj)\n",
    "            X_proj = fpipeline.fit_transform(df_proj)    \n",
    "        else:\n",
    "            fpipeline = mypipeline\n",
    "            X_proj = fpipeline.transform(df_proj)\n",
    "            \n",
    "        # Get the predictions\n",
    "        predictions = m.model.predict(X_proj)\n",
    "        # add the predictions to the data frame\n",
    "        df_new['predictions'] = predictions\n",
    "        # save the predictions\n",
    "        PATH_stat = PATH_OUTPUT + '/' + nam_mod + '/'\n",
    "        os.makedirs(PATH_stat, exist_ok=True)\n",
    "        print('save predictions for', name_ch[i])\n",
    "        df_new.to_csv(PATH_stat + name_ch[i] + '.csv')\n",
    "        \n",
    "    l_predictions.append(df_new)\n",
    "        \n",
    "    return(l_predictions)"
   ]
  },
  {
   "cell_type": "code",
   "execution_count": 45,
   "id": "1f078671-8540-4476-88d6-26a3f659aff0",
   "metadata": {},
   "outputs": [
    {
     "data": {
      "text/plain": [
       "'/Users/noeliaotero/Documents/OCCR/data/Output_data/csv/outmodels_standard_fullRCP//climate_rcp_simulations/RF_predsplit_CH2018_withdoi/'"
      ]
     },
     "execution_count": 45,
     "metadata": {},
     "output_type": "execute_result"
    }
   ],
   "source": [
    "PATH_OUT"
   ]
  },
  {
   "cell_type": "code",
   "execution_count": 46,
   "id": "e136cf6d-6945-4a25-9407-297a34ddb04a",
   "metadata": {
    "collapsed": true,
    "jupyter": {
     "outputs_hidden": true
    },
    "tags": []
   },
   "outputs": [
    {
     "name": "stdout",
     "output_type": "stream",
     "text": [
      "Blenio (OFIBLE)\n",
      "0\n"
     ]
    },
    {
     "ename": "KeyError",
     "evalue": "'/Users/noeliaotero/Documents/OCCR/data/Output_data/csv/outmodels_standard_fullRCP//climate_rcp_simulations/RF_predsplit_CH2018_withdoi/'",
     "output_type": "error",
     "traceback": [
      "\u001b[0;31m---------------------------------------------------------------------------\u001b[0m",
      "\u001b[0;31mKeyError\u001b[0m                                  Traceback (most recent call last)",
      "\u001b[0;32m~/opt/anaconda3/envs/py39/lib/python3.9/site-packages/pandas/core/indexes/base.py\u001b[0m in \u001b[0;36mget_loc\u001b[0;34m(self, key, method, tolerance)\u001b[0m\n\u001b[1;32m   3360\u001b[0m             \u001b[0;32mtry\u001b[0m\u001b[0;34m:\u001b[0m\u001b[0;34m\u001b[0m\u001b[0;34m\u001b[0m\u001b[0m\n\u001b[0;32m-> 3361\u001b[0;31m                 \u001b[0;32mreturn\u001b[0m \u001b[0mself\u001b[0m\u001b[0;34m.\u001b[0m\u001b[0m_engine\u001b[0m\u001b[0;34m.\u001b[0m\u001b[0mget_loc\u001b[0m\u001b[0;34m(\u001b[0m\u001b[0mcasted_key\u001b[0m\u001b[0;34m)\u001b[0m\u001b[0;34m\u001b[0m\u001b[0;34m\u001b[0m\u001b[0m\n\u001b[0m\u001b[1;32m   3362\u001b[0m             \u001b[0;32mexcept\u001b[0m \u001b[0mKeyError\u001b[0m \u001b[0;32mas\u001b[0m \u001b[0merr\u001b[0m\u001b[0;34m:\u001b[0m\u001b[0;34m\u001b[0m\u001b[0;34m\u001b[0m\u001b[0m\n",
      "\u001b[0;32m~/opt/anaconda3/envs/py39/lib/python3.9/site-packages/pandas/_libs/index.pyx\u001b[0m in \u001b[0;36mpandas._libs.index.IndexEngine.get_loc\u001b[0;34m()\u001b[0m\n",
      "\u001b[0;32m~/opt/anaconda3/envs/py39/lib/python3.9/site-packages/pandas/_libs/index.pyx\u001b[0m in \u001b[0;36mpandas._libs.index.IndexEngine.get_loc\u001b[0;34m()\u001b[0m\n",
      "\u001b[0;32mpandas/_libs/hashtable_class_helper.pxi\u001b[0m in \u001b[0;36mpandas._libs.hashtable.PyObjectHashTable.get_item\u001b[0;34m()\u001b[0m\n",
      "\u001b[0;32mpandas/_libs/hashtable_class_helper.pxi\u001b[0m in \u001b[0;36mpandas._libs.hashtable.PyObjectHashTable.get_item\u001b[0;34m()\u001b[0m\n",
      "\u001b[0;31mKeyError\u001b[0m: '/Users/noeliaotero/Documents/OCCR/data/Output_data/csv/outmodels_standard_fullRCP//climate_rcp_simulations/RF_predsplit_CH2018_withdoi/'",
      "\nThe above exception was the direct cause of the following exception:\n",
      "\u001b[0;31mKeyError\u001b[0m                                  Traceback (most recent call last)",
      "\u001b[0;32m/var/folders/3p/7044wnn96f970j23ks8v97240000gn/T/ipykernel_98354/1322516875.py\u001b[0m in \u001b[0;36m<module>\u001b[0;34m\u001b[0m\n\u001b[1;32m      6\u001b[0m     \u001b[0;31m#get_predictions(PATH_CH2018, rf_mod[station], names_mod[station],Features, PATH_OUT, mypipeline = l_fpipelines[station])\u001b[0m\u001b[0;34m\u001b[0m\u001b[0;34m\u001b[0m\u001b[0m\n\u001b[1;32m      7\u001b[0m \u001b[0;34m\u001b[0m\u001b[0m\n\u001b[0;32m----> 8\u001b[0;31m     \u001b[0mget_predictions\u001b[0m\u001b[0;34m(\u001b[0m\u001b[0mPATH_CH2018\u001b[0m\u001b[0;34m,\u001b[0m \u001b[0mrf_mod\u001b[0m\u001b[0;34m[\u001b[0m\u001b[0mstation\u001b[0m\u001b[0;34m]\u001b[0m\u001b[0;34m,\u001b[0m \u001b[0mnames_mod\u001b[0m\u001b[0;34m[\u001b[0m\u001b[0mstation\u001b[0m\u001b[0;34m]\u001b[0m\u001b[0;34m,\u001b[0m \u001b[0mPATH_OUT\u001b[0m\u001b[0;34m,\u001b[0m \u001b[0;34m\"FullRCP\"\u001b[0m\u001b[0;34m)\u001b[0m\u001b[0;34m\u001b[0m\u001b[0;34m\u001b[0m\u001b[0m\n\u001b[0m\u001b[1;32m      9\u001b[0m \u001b[0;34m\u001b[0m\u001b[0m\n",
      "\u001b[0;32m/var/folders/3p/7044wnn96f970j23ks8v97240000gn/T/ipykernel_98354/1353796857.py\u001b[0m in \u001b[0;36mget_predictions\u001b[0;34m(PATH_CH2018, rf_model, nam_mod, Features, PATH_OUT, mypipeline)\u001b[0m\n\u001b[1;32m     28\u001b[0m \u001b[0;34m\u001b[0m\u001b[0m\n\u001b[1;32m     29\u001b[0m         \u001b[0mdf_ref\u001b[0m \u001b[0;34m=\u001b[0m \u001b[0mdf_new\u001b[0m\u001b[0;34m[\u001b[0m\u001b[0;34m(\u001b[0m\u001b[0mdf_new\u001b[0m\u001b[0;34m.\u001b[0m\u001b[0mdate\u001b[0m\u001b[0;34m.\u001b[0m\u001b[0mdt\u001b[0m\u001b[0;34m.\u001b[0m\u001b[0myear\u001b[0m \u001b[0;34m>=\u001b[0m \u001b[0;36m1981\u001b[0m\u001b[0;34m)\u001b[0m \u001b[0;34m&\u001b[0m  \u001b[0;34m(\u001b[0m\u001b[0mdf_new\u001b[0m\u001b[0;34m.\u001b[0m\u001b[0mdate\u001b[0m\u001b[0;34m.\u001b[0m\u001b[0mdt\u001b[0m\u001b[0;34m.\u001b[0m\u001b[0myear\u001b[0m \u001b[0;34m<=\u001b[0m \u001b[0;36m2021\u001b[0m\u001b[0;34m)\u001b[0m\u001b[0;34m]\u001b[0m\u001b[0;34m\u001b[0m\u001b[0;34m\u001b[0m\u001b[0m\n\u001b[0;32m---> 30\u001b[0;31m         \u001b[0mdf_proj_ref\u001b[0m \u001b[0;34m=\u001b[0m \u001b[0mdf_ref\u001b[0m\u001b[0;34m[\u001b[0m\u001b[0mFeatures\u001b[0m\u001b[0;34m]\u001b[0m\u001b[0;34m\u001b[0m\u001b[0;34m\u001b[0m\u001b[0m\n\u001b[0m\u001b[1;32m     31\u001b[0m         \u001b[0mdf_proj\u001b[0m\u001b[0;34m=\u001b[0m \u001b[0mdf_new\u001b[0m\u001b[0;34m[\u001b[0m\u001b[0mFeatures\u001b[0m\u001b[0;34m]\u001b[0m\u001b[0;34m\u001b[0m\u001b[0;34m\u001b[0m\u001b[0m\n\u001b[1;32m     32\u001b[0m         \u001b[0;31m# scale the data\u001b[0m\u001b[0;34m\u001b[0m\u001b[0;34m\u001b[0m\u001b[0m\n",
      "\u001b[0;32m~/opt/anaconda3/envs/py39/lib/python3.9/site-packages/pandas/core/frame.py\u001b[0m in \u001b[0;36m__getitem__\u001b[0;34m(self, key)\u001b[0m\n\u001b[1;32m   3456\u001b[0m             \u001b[0;32mif\u001b[0m \u001b[0mself\u001b[0m\u001b[0;34m.\u001b[0m\u001b[0mcolumns\u001b[0m\u001b[0;34m.\u001b[0m\u001b[0mnlevels\u001b[0m \u001b[0;34m>\u001b[0m \u001b[0;36m1\u001b[0m\u001b[0;34m:\u001b[0m\u001b[0;34m\u001b[0m\u001b[0;34m\u001b[0m\u001b[0m\n\u001b[1;32m   3457\u001b[0m                 \u001b[0;32mreturn\u001b[0m \u001b[0mself\u001b[0m\u001b[0;34m.\u001b[0m\u001b[0m_getitem_multilevel\u001b[0m\u001b[0;34m(\u001b[0m\u001b[0mkey\u001b[0m\u001b[0;34m)\u001b[0m\u001b[0;34m\u001b[0m\u001b[0;34m\u001b[0m\u001b[0m\n\u001b[0;32m-> 3458\u001b[0;31m             \u001b[0mindexer\u001b[0m \u001b[0;34m=\u001b[0m \u001b[0mself\u001b[0m\u001b[0;34m.\u001b[0m\u001b[0mcolumns\u001b[0m\u001b[0;34m.\u001b[0m\u001b[0mget_loc\u001b[0m\u001b[0;34m(\u001b[0m\u001b[0mkey\u001b[0m\u001b[0;34m)\u001b[0m\u001b[0;34m\u001b[0m\u001b[0;34m\u001b[0m\u001b[0m\n\u001b[0m\u001b[1;32m   3459\u001b[0m             \u001b[0;32mif\u001b[0m \u001b[0mis_integer\u001b[0m\u001b[0;34m(\u001b[0m\u001b[0mindexer\u001b[0m\u001b[0;34m)\u001b[0m\u001b[0;34m:\u001b[0m\u001b[0;34m\u001b[0m\u001b[0;34m\u001b[0m\u001b[0m\n\u001b[1;32m   3460\u001b[0m                 \u001b[0mindexer\u001b[0m \u001b[0;34m=\u001b[0m \u001b[0;34m[\u001b[0m\u001b[0mindexer\u001b[0m\u001b[0;34m]\u001b[0m\u001b[0;34m\u001b[0m\u001b[0;34m\u001b[0m\u001b[0m\n",
      "\u001b[0;32m~/opt/anaconda3/envs/py39/lib/python3.9/site-packages/pandas/core/indexes/base.py\u001b[0m in \u001b[0;36mget_loc\u001b[0;34m(self, key, method, tolerance)\u001b[0m\n\u001b[1;32m   3361\u001b[0m                 \u001b[0;32mreturn\u001b[0m \u001b[0mself\u001b[0m\u001b[0;34m.\u001b[0m\u001b[0m_engine\u001b[0m\u001b[0;34m.\u001b[0m\u001b[0mget_loc\u001b[0m\u001b[0;34m(\u001b[0m\u001b[0mcasted_key\u001b[0m\u001b[0;34m)\u001b[0m\u001b[0;34m\u001b[0m\u001b[0;34m\u001b[0m\u001b[0m\n\u001b[1;32m   3362\u001b[0m             \u001b[0;32mexcept\u001b[0m \u001b[0mKeyError\u001b[0m \u001b[0;32mas\u001b[0m \u001b[0merr\u001b[0m\u001b[0;34m:\u001b[0m\u001b[0;34m\u001b[0m\u001b[0;34m\u001b[0m\u001b[0m\n\u001b[0;32m-> 3363\u001b[0;31m                 \u001b[0;32mraise\u001b[0m \u001b[0mKeyError\u001b[0m\u001b[0;34m(\u001b[0m\u001b[0mkey\u001b[0m\u001b[0;34m)\u001b[0m \u001b[0;32mfrom\u001b[0m \u001b[0merr\u001b[0m\u001b[0;34m\u001b[0m\u001b[0;34m\u001b[0m\u001b[0m\n\u001b[0m\u001b[1;32m   3364\u001b[0m \u001b[0;34m\u001b[0m\u001b[0m\n\u001b[1;32m   3365\u001b[0m         \u001b[0;32mif\u001b[0m \u001b[0mis_scalar\u001b[0m\u001b[0;34m(\u001b[0m\u001b[0mkey\u001b[0m\u001b[0;34m)\u001b[0m \u001b[0;32mand\u001b[0m \u001b[0misna\u001b[0m\u001b[0;34m(\u001b[0m\u001b[0mkey\u001b[0m\u001b[0;34m)\u001b[0m \u001b[0;32mand\u001b[0m \u001b[0;32mnot\u001b[0m \u001b[0mself\u001b[0m\u001b[0;34m.\u001b[0m\u001b[0mhasnans\u001b[0m\u001b[0;34m:\u001b[0m\u001b[0;34m\u001b[0m\u001b[0;34m\u001b[0m\u001b[0m\n",
      "\u001b[0;31mKeyError\u001b[0m: '/Users/noeliaotero/Documents/OCCR/data/Output_data/csv/outmodels_standard_fullRCP//climate_rcp_simulations/RF_predsplit_CH2018_withdoi/'"
     ]
    }
   ],
   "source": [
    "# Get the predictions for each \n",
    "#test= get_predictions(PATH_CH2018, rf_mod[0], names_mod[0], PATH_OUT)\n",
    "for station in range(0, len(names_mod)):\n",
    "    print(names_mod[station])\n",
    "   # get_predictions(PATH_CH2018, rf_mod[station], names_mod[station],Features, PATH_OUT, mypipeline = None)\n",
    "    get_predictions(PATH_CH2018, rf_mod[station], names_mod[station],Features, PATH_OUT, mypipeline = l_fpipelines[station])\n",
    "   \n",
    "    #get_predictions(PATH_CH2018, rf_mod[station], names_mod[station], PATH_OUT, \"FullRCP\")\n",
    "    "
   ]
  }
 ],
 "metadata": {
  "kernelspec": {
   "display_name": "py39",
   "language": "python",
   "name": "py39"
  },
  "language_info": {
   "codemirror_mode": {
    "name": "ipython",
    "version": 3
   },
   "file_extension": ".py",
   "mimetype": "text/x-python",
   "name": "python",
   "nbconvert_exporter": "python",
   "pygments_lexer": "ipython3",
   "version": "3.9.7"
  }
 },
 "nbformat": 4,
 "nbformat_minor": 5
}
