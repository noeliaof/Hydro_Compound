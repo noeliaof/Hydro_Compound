{
 "cells": [
  {
   "cell_type": "code",
   "execution_count": 1,
   "id": "151d33b1-30df-437b-a040-b329b576ab24",
   "metadata": {},
   "outputs": [],
   "source": [
    "import pandas as pd\n",
    "import geopandas as gpd\n",
    "# Operations on geometries\n",
    "import shapely\n",
    "import numpy as np\n",
    "import math\n",
    "import xarray as xr\n",
    "# Plotting\n",
    "import matplotlib.pyplot as plt\n",
    "import matplotlib\n",
    "from matplotlib.colors import LinearSegmentedColormap\n",
    "import cartopy.crs as ccrs\n",
    "import cartopy.feature as cfeature\n",
    "import seaborn as sns\n",
    "#import wradlib as wrl\n",
    "import regionmask\n",
    "from pyproj import Transformer\n",
    "import pyproj\n",
    "from pyproj import CRS\n",
    "import shapely.vectorized as sv\n",
    "\n",
    "from utils.utils_shapes import *\n",
    "\n",
    "sns.set()\n",
    "%matplotlib inline"
   ]
  },
  {
   "cell_type": "code",
   "execution_count": 2,
   "id": "69b7288d-6482-47d6-9aee-8e64cfee481f",
   "metadata": {},
   "outputs": [],
   "source": [
    "# Path files\n",
    "PATH = '/Users/noeliaotero/Documents/OCCR/data/'"
   ]
  },
  {
   "cell_type": "code",
   "execution_count": 3,
   "id": "129205c2-d40b-4882-891f-bf3c00600b86",
   "metadata": {},
   "outputs": [],
   "source": [
    "# netcdf files \n",
    "t2max=xr.open_mfdataset(PATH + '/meteoswiss/TmaxD_v2.0_longlat/*nc', combine='by_coords')\n",
    "t2abs=xr.open_mfdataset(PATH + '/meteoswiss/TabsD_v2.0_longlat/*nc', combine='by_coords')\n",
    "tp=xr.open_mfdataset(PATH + '/meteoswiss/RhiresD_v2.0_lonlat/*nc', combine='by_coords')"
   ]
  },
  {
   "cell_type": "code",
   "execution_count": 4,
   "id": "c35109f6-d3e9-46af-87b3-0787017e4dc5",
   "metadata": {},
   "outputs": [],
   "source": [
    "f_id = '/Output_data/csv/ID_Names.csv'\n",
    "# read the ID to select only the interesting\n",
    "ids = pd.read_csv(PATH + f_id)"
   ]
  },
  {
   "cell_type": "code",
   "execution_count": 5,
   "id": "f4df9112-b461-4fe8-90f7-3618878c2f33",
   "metadata": {},
   "outputs": [],
   "source": [
    "# open and read each shapefile\n",
    "shp_Leventina =  gpd.read_file(PATH + 'Shapefiles_powerplants/Leventina/193404.shp')\n",
    "shp_Blenio =  gpd.read_file(PATH + 'Shapefiles_powerplants/Blenio/100367.shp')\n",
    "shp_ElectraMassa =  gpd.read_file(PATH + 'Shapefiles_powerplants/Electra-Massa/191746.shp')\n",
    "shp_Emosson =  gpd.read_file(PATH + 'Shapefiles_powerplants/Emosson/178852.shp')\n",
    "shp_Mauvoisin =  gpd.read_file(PATH + 'Shapefiles_powerplants/Mauvoisin/104523.shp')\n",
    "shp_Rheinfelden =  gpd.read_file(PATH + 'Shapefiles_powerplants/Rheinfelden/142378.shp')"
   ]
  },
  {
   "cell_type": "code",
   "execution_count": 6,
   "id": "ffb8655b-9d19-4f7e-b791-bba7bd1e2f3f",
   "metadata": {},
   "outputs": [
    {
     "data": {
      "text/html": [
       "<div>\n",
       "<style scoped>\n",
       "    .dataframe tbody tr th:only-of-type {\n",
       "        vertical-align: middle;\n",
       "    }\n",
       "\n",
       "    .dataframe tbody tr th {\n",
       "        vertical-align: top;\n",
       "    }\n",
       "\n",
       "    .dataframe thead th {\n",
       "        text-align: right;\n",
       "    }\n",
       "</style>\n",
       "<table border=\"1\" class=\"dataframe\">\n",
       "  <thead>\n",
       "    <tr style=\"text-align: right;\">\n",
       "      <th></th>\n",
       "      <th>id</th>\n",
       "      <th>ezgnr</th>\n",
       "      <th>ar_1903</th>\n",
       "      <th>watr_nm</th>\n",
       "      <th>place</th>\n",
       "      <th>geometry</th>\n",
       "    </tr>\n",
       "  </thead>\n",
       "  <tbody>\n",
       "    <tr>\n",
       "      <th>0</th>\n",
       "      <td>193404</td>\n",
       "      <td>None</td>\n",
       "      <td>23.0</td>\n",
       "      <td>Foss</td>\n",
       "      <td>Quinto</td>\n",
       "      <td>POLYGON ((8.76996 46.53418, 8.76999 46.53406, ...</td>\n",
       "    </tr>\n",
       "    <tr>\n",
       "      <th>0</th>\n",
       "      <td>100367</td>\n",
       "      <td>None</td>\n",
       "      <td>36.6</td>\n",
       "      <td>Riale di Luzzone</td>\n",
       "      <td>Blenio</td>\n",
       "      <td>POLYGON ((9.02313 46.53831, 9.02313 46.53831, ...</td>\n",
       "    </tr>\n",
       "    <tr>\n",
       "      <th>0</th>\n",
       "      <td>191746</td>\n",
       "      <td>None</td>\n",
       "      <td>198.3</td>\n",
       "      <td>Massa</td>\n",
       "      <td>Naters</td>\n",
       "      <td>POLYGON ((8.01645 46.37183, 8.01631 46.37170, ...</td>\n",
       "    </tr>\n",
       "    <tr>\n",
       "      <th>0</th>\n",
       "      <td>178852</td>\n",
       "      <td>None</td>\n",
       "      <td>29.7</td>\n",
       "      <td>Barberine</td>\n",
       "      <td>Finhaut</td>\n",
       "      <td>POLYGON ((6.89257 46.04732, 6.89257 46.04732, ...</td>\n",
       "    </tr>\n",
       "    <tr>\n",
       "      <th>0</th>\n",
       "      <td>104523</td>\n",
       "      <td>None</td>\n",
       "      <td>114.5</td>\n",
       "      <td>Dranse de Bagnes</td>\n",
       "      <td>Bagnes</td>\n",
       "      <td>POLYGON ((7.39536 45.90643, 7.39535 45.90627, ...</td>\n",
       "    </tr>\n",
       "    <tr>\n",
       "      <th>0</th>\n",
       "      <td>142378</td>\n",
       "      <td>None</td>\n",
       "      <td>34520.2</td>\n",
       "      <td>Rhein</td>\n",
       "      <td>None</td>\n",
       "      <td>POLYGON ((8.99981 46.61115, 8.99901 46.61117, ...</td>\n",
       "    </tr>\n",
       "  </tbody>\n",
       "</table>\n",
       "</div>"
      ],
      "text/plain": [
       "       id ezgnr  ar_1903           watr_nm    place  \\\n",
       "0  193404  None     23.0              Foss   Quinto   \n",
       "0  100367  None     36.6  Riale di Luzzone   Blenio   \n",
       "0  191746  None    198.3             Massa   Naters   \n",
       "0  178852  None     29.7         Barberine  Finhaut   \n",
       "0  104523  None    114.5  Dranse de Bagnes   Bagnes   \n",
       "0  142378  None  34520.2             Rhein     None   \n",
       "\n",
       "                                            geometry  \n",
       "0  POLYGON ((8.76996 46.53418, 8.76999 46.53406, ...  \n",
       "0  POLYGON ((9.02313 46.53831, 9.02313 46.53831, ...  \n",
       "0  POLYGON ((8.01645 46.37183, 8.01631 46.37170, ...  \n",
       "0  POLYGON ((6.89257 46.04732, 6.89257 46.04732, ...  \n",
       "0  POLYGON ((7.39536 45.90643, 7.39535 45.90627, ...  \n",
       "0  POLYGON ((8.99981 46.61115, 8.99901 46.61117, ...  "
      ]
     },
     "execution_count": 6,
     "metadata": {},
     "output_type": "execute_result"
    }
   ],
   "source": [
    "all_shp=gpd.GeoDataFrame(pd.concat([shp_Leventina, shp_Blenio, shp_ElectraMassa, shp_Emosson, shp_Mauvoisin, shp_Rheinfelden ]))\n",
    "all_shp"
   ]
  },
  {
   "cell_type": "code",
   "execution_count": 7,
   "id": "b3887ae6-58b6-4305-9fa2-880d5b975577",
   "metadata": {},
   "outputs": [],
   "source": [
    "nn = len(all_shp.id)"
   ]
  },
  {
   "cell_type": "code",
   "execution_count": 8,
   "id": "626152e5-1375-49a8-9358-c81237ef2e6b",
   "metadata": {},
   "outputs": [
    {
     "name": "stdout",
     "output_type": "stream",
     "text": [
      "Frozen({'time': 15706, 'lon': 241, 'lat': 103})\n",
      "Frozen({'time': 15706, 'lon': 241, 'lat': 103})\n",
      "Frozen({'time': 15706, 'lon': 241, 'lat': 121})\n"
     ]
    }
   ],
   "source": [
    "# print dimensions\n",
    "print(t2abs.dims)\n",
    "print(t2max.dims)\n",
    "print(tp.dims)"
   ]
  },
  {
   "cell_type": "code",
   "execution_count": 10,
   "id": "be603861-6ad2-422e-9c4c-690a436407eb",
   "metadata": {},
   "outputs": [],
   "source": [
    "nuts_mask_poly = regionmask.Regions(name = 'nuts_mask', numbers = list(range(0,nn)), names = list(all_shp.id), abbrevs = list(all_shp.id), outlines = list(all_shp.geometry.values[i] for i in range(0,nn)))\n"
   ]
  },
  {
   "cell_type": "code",
   "execution_count": 11,
   "id": "eb44f202-2918-4650-8c5c-9f6bcf3fb525",
   "metadata": {
    "collapsed": true,
    "jupyter": {
     "outputs_hidden": true
    },
    "tags": []
   },
   "outputs": [
    {
     "name": "stdout",
     "output_type": "stream",
     "text": [
      "0\n",
      "1\n",
      "2\n",
      "3\n",
      "4\n",
      "5\n"
     ]
    }
   ],
   "source": [
    "# Mean temperature\n",
    "t2m_dat_catch=extract_nuts_TS(t2abs, nuts_mask_poly)"
   ]
  },
  {
   "cell_type": "code",
   "execution_count": 12,
   "id": "98dc8ad8-eb80-49b1-898b-e64df4f654b7",
   "metadata": {
    "collapsed": true,
    "jupyter": {
     "outputs_hidden": true
    },
    "tags": []
   },
   "outputs": [
    {
     "name": "stdout",
     "output_type": "stream",
     "text": [
      "0\n",
      "1\n",
      "2\n",
      "3\n",
      "4\n",
      "5\n"
     ]
    }
   ],
   "source": [
    "#Maximum temperature\n",
    "t2max_dat_catch=extract_nuts_TS(t2max, nuts_mask_poly)"
   ]
  },
  {
   "cell_type": "code",
   "execution_count": 13,
   "id": "36caf0bd-292b-4d9b-bd48-eb1f09a0525a",
   "metadata": {
    "collapsed": true,
    "jupyter": {
     "outputs_hidden": true
    },
    "tags": []
   },
   "outputs": [
    {
     "name": "stdout",
     "output_type": "stream",
     "text": [
      "0\n",
      "1\n",
      "2\n",
      "3\n",
      "4\n",
      "5\n"
     ]
    }
   ],
   "source": [
    "# Precipititation\n",
    "tp_dat_catch=extract_nuts_TS(tp, nuts_mask_poly)"
   ]
  },
  {
   "cell_type": "code",
   "execution_count": 15,
   "id": "bd7013d8-40aa-4e83-92f1-f40e86d36a81",
   "metadata": {},
   "outputs": [],
   "source": [
    "t2m_catch=metaverage_catch(t2m_dat_catch,'TabsD', nuts_mask_poly)\n",
    "t2max_catch=metaverage_catch(t2max_dat_catch,'TmaxD', nuts_mask_poly)\n",
    "tp_catch=metaverage_catch(tp_dat_catch,'RhiresD', nuts_mask_poly)"
   ]
  },
  {
   "cell_type": "code",
   "execution_count": 20,
   "id": "994ec1b0-a61e-4e72-a8db-d714c8ceb3a7",
   "metadata": {},
   "outputs": [],
   "source": [
    "# rename  'AET-Leventina' 'Blenio' 'Massa' 'Emosson' 'Mauvoisin' 'Rheinfelden'\n",
    "t2m_catch.columns = ['date', '2364', '2494', '2342', '2053', '2117', '2091']\n",
    "t2max_catch.columns = ['date', '2364', '2494', '2342', '2053', '2117', '2091']\n",
    "tp_catch.columns = ['date', '2364', '2494', '2342', '2053', '2117', '2091']"
   ]
  },
  {
   "cell_type": "code",
   "execution_count": 21,
   "id": "876ab1b3-e503-44ad-91f9-36473dcb6fcc",
   "metadata": {},
   "outputs": [],
   "source": [
    "dir_out = PATH + \"/Output_data/csv/Observed_discharge_entsoe_powerplants/meteovars_avg_finalpowerplants/\"\n",
    "# saving the dataframe \n",
    "t2m_catch.to_csv(dir_out + 't2m_197901_202112.csv', index = False, header=True)\n",
    "t2max_catch.to_csv(dir_out + 't2max_197901_202112.csv', index = False, header=True)\n",
    "tp_catch.to_csv(dir_out + 'tp_197901_202112.csv', index = False, header=True)"
   ]
  },
  {
   "cell_type": "code",
   "execution_count": null,
   "id": "a2499d06-3b62-4024-8354-ff6804cb984f",
   "metadata": {},
   "outputs": [],
   "source": []
  }
 ],
 "metadata": {
  "kernelspec": {
   "display_name": "py39",
   "language": "python",
   "name": "py39"
  },
  "language_info": {
   "codemirror_mode": {
    "name": "ipython",
    "version": 3
   },
   "file_extension": ".py",
   "mimetype": "text/x-python",
   "name": "python",
   "nbconvert_exporter": "python",
   "pygments_lexer": "ipython3",
   "version": "3.9.7"
  }
 },
 "nbformat": 4,
 "nbformat_minor": 5
}
