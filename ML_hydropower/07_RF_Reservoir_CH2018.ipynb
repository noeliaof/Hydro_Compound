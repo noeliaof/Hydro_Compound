{
 "cells": [
  {
   "cell_type": "code",
   "execution_count": 1,
   "id": "57fbbe69-e391-4bae-bff8-a1120c0e2949",
   "metadata": {},
   "outputs": [
    {
     "name": "stderr",
     "output_type": "stream",
     "text": [
      "/Users/noeliaotero/opt/anaconda3/envs/py39/lib/python3.9/site-packages/seaborn/apionly.py:9: UserWarning: As seaborn no longer sets a default style on import, the seaborn.apionly module is deprecated. It will be removed in a future version.\n",
      "  warnings.warn(msg, UserWarning)\n"
     ]
    }
   ],
   "source": [
    "# Import libraries\n",
    "import pandas as pd\n",
    "import geopandas as gpd\n",
    "# Operations on geometries\n",
    "import shapely\n",
    "import numpy as np\n",
    "from numpy import nan\n",
    "import math\n",
    "import glob \n",
    "import xarray as xr\n",
    "import xarray\n",
    "import matplotlib.pyplot as plt\n",
    "from matplotlib import pyplot\n",
    "import seaborn as sns\n",
    "import tensorflow as tf\n",
    "import statsmodels.api as sm\n",
    "import xgboost\n",
    "import xgboost as xgb\n",
    "import csv as csv\n",
    "from xgboost import XGBRegressor\n",
    "from xgboost import plot_importance\n",
    "from sklearn import linear_model\n",
    "from sklearn.model_selection import cross_val_score,KFold\n",
    "from sklearn.model_selection import train_test_split\n",
    "from sklearn.preprocessing import MinMaxScaler\n",
    "from sklearn.metrics import mean_absolute_error,mean_squared_error\n",
    "from sklearn.model_selection import TimeSeriesSplit,GridSearchCV\n",
    "from sklearn.model_selection import cross_validate\n",
    "\n",
    "from sklearn.linear_model import LinearRegression\n",
    "from sklearn.neural_network import MLPRegressor\n",
    "from sklearn.neighbors import KNeighborsRegressor\n",
    "from sklearn.ensemble import RandomForestRegressor  #Perforing grid search\n",
    "from sklearn.ensemble import RandomForestClassifier\n",
    "from sklearn.svm import SVR\n",
    "from sklearn.model_selection import cross_val_score\n",
    "from sklearn.metrics import accuracy_score, confusion_matrix, classification_report\n",
    "from sklearn.neighbors import KNeighborsClassifier\n",
    "from sklearn.metrics import roc_auc_score\n",
    "from sklearn import datasets, metrics, model_selection\n",
    "from yellowbrick.regressor import residuals_plot\n",
    "\n",
    "\n",
    "import scipy\n",
    "from scipy import stats\n",
    "import os\n",
    "\n",
    "import matplotlib.pyplot as plt\n",
    "\n",
    "from scipy.stats import skew\n",
    "from collections import OrderedDict\n",
    "\n",
    "import _pickle as cPickle\n",
    "\n",
    "import math\n",
    "import keras\n",
    "from keras.models import Sequential\n",
    "from keras.layers import Dense\n",
    "from keras.layers import LSTM\n",
    "from keras.layers import Dropout\n",
    "from keras.callbacks import EarlyStopping\n",
    "\n",
    "from utils_functions.utils_data import *\n",
    "from utils_functions.utils_ml import *\n",
    "from utils_functions.utils_RF import *\n",
    "from utils_functions.utils_plot import *"
   ]
  },
  {
   "cell_type": "code",
   "execution_count": 9,
   "id": "3e0b1a92-d57d-4264-b22b-f3dedd4e90dd",
   "metadata": {},
   "outputs": [],
   "source": [
    "PATH =  '/Users/noeliaotero/Documents/OCCR/data/Output_data/csv/outmodels_resevervoirs/simulations_PREVAH/Classical/models/'"
   ]
  },
  {
   "cell_type": "code",
   "execution_count": 10,
   "id": "7ff7fe75-faed-4237-a0bb-91c6e8222aa7",
   "metadata": {},
   "outputs": [],
   "source": [
    "PATH_CH2018 = '/Users/noeliaotero/Documents/OCCR/data/Output_data/csv/CH2018_tomodel_Level_reservoirs/'\n",
    "PATH_OUT = '/Users/noeliaotero/Documents/OCCR/data/Output_data/csv/outmodels_resevervoirs/climate_rcp_simulations/RF_predsplit_CH2018/'\n",
    "os.makedirs(PATH_OUT, exist_ok = True)"
   ]
  },
  {
   "cell_type": "code",
   "execution_count": 11,
   "id": "9a9f3be8-7643-4bfd-b94e-53b64c88fa66",
   "metadata": {},
   "outputs": [],
   "source": [
    "names_ch = os.listdir(PATH_CH2018)"
   ]
  },
  {
   "cell_type": "code",
   "execution_count": 12,
   "id": "5e4a97ee-61f2-446a-a066-ce4923616df9",
   "metadata": {},
   "outputs": [],
   "source": [
    "nfiles = os.listdir(PATH)"
   ]
  },
  {
   "cell_type": "code",
   "execution_count": 45,
   "id": "fc07135c-e317-40f3-a085-a5b61bc1579b",
   "metadata": {},
   "outputs": [],
   "source": [
    "rf_mod = []\n",
    "names_mod = []\n",
    "for i in range(0, len(nfiles)):\n",
    "    ifile = [\"rf_Predefinesplit\" in i for i in nfiles] \n",
    "    if ifile[i]:\n",
    "        #print(nfiles[i])\n",
    "        with open(PATH + nfiles[i], 'rb') as fid:\n",
    "            model = cPickle.load(fid)\n",
    "        rf_mod.append(model)\n",
    "        names_mod.append(nfiles[i].split(\"_\")[0])"
   ]
  },
  {
   "cell_type": "code",
   "execution_count": 16,
   "id": "2b0cc2fa-2298-41b7-832a-0e6473f2035b",
   "metadata": {},
   "outputs": [],
   "source": [
    "T1 = [2021,2061]\n",
    "T2 = [2059, 2099]"
   ]
  },
  {
   "cell_type": "code",
   "execution_count": 29,
   "id": "1787d052-3686-46e0-b917-a55ab83f1ace",
   "metadata": {},
   "outputs": [],
   "source": [
    "colnames = ['date', 't2m','prec', 'prec7D', 'prec15D', 'prec30D', 't2m7D', 't2m15D',\n",
    "       't2m30D','PREVAH','PREVAH7D', 'PREVAH15D', 'PREVAH30D','Week']\n",
    "# Adding doi\n",
    "Features = ['t2m','t2m2W','t2m4W', 't2m6W','precip', 'prec2W', 'prec4W',\n",
    "       'prec6W','PREVAH','PREVAH2W', 'PREVAH4W', 'PREVAH6W', 'Week']"
   ]
  },
  {
   "cell_type": "code",
   "execution_count": 51,
   "id": "278295da-5046-4a04-932b-e3afae1e0dc5",
   "metadata": {},
   "outputs": [],
   "source": [
    "def get_CH2018_Reser_predictions (PATH_CH2018, rf_model, Features, PATH_OUT, mypipeline = None):\n",
    "    \"\"\"Get the predictions based on the RF model from the historical period\n",
    "       Args: PATH_CH2018: directory with the files\n",
    "             nam_mod: name of the model/station\"\"\"\n",
    "\n",
    " \n",
    "    basenames = os.listdir(PATH_CH2018)\n",
    "    name_ch = [os.path.splitext(x)[0] for x in basenames]\n",
    "\n",
    "    \n",
    "    x = readfiles(PATH_CH2018)\n",
    "    m = rf_model\n",
    "    l_predictions = []\n",
    "    \n",
    "    for i in range(0, len(name_ch)):\n",
    "        print(i)\n",
    "      \n",
    "        #print(x[i].head())\n",
    "        #if (x[i].name_p.unique()[0] != nam_mod):\n",
    "        #    raise Exception('Something is not matching!')\n",
    "        df = x[i]\n",
    "        \n",
    "        df_new = df\n",
    "        df_new[\"date\"] = pd.to_datetime(df_new[\"date\"])\n",
    "        # create the doi\n",
    "        \n",
    "        df_ref = df_new[(df_new.date.dt.year >= 1981) &  (df_new.date.dt.year <= 2021)]\n",
    "        df_proj_ref = df_ref[Features]\n",
    "        df_proj= df_new[Features]\n",
    "        # scale the data\n",
    "        if mypipeline == None:\n",
    "            # select the same period 1981-2021 to scale\n",
    "            #fpipeline = prepareData(df_proj)\n",
    "            fpipeline = prepareData(df_proj_ref)\n",
    "            X_proj = fpipeline.fit_transform(df_proj)\n",
    "        elif mypipeline == 'FullRCP':\n",
    "            fpipeline = prepareData(df_proj)\n",
    "            X_proj = fpipeline.fit_transform(df_proj)    \n",
    "        else:\n",
    "            fpipeline = mypipeline\n",
    "            X_proj = fpipeline.transform(df_proj)\n",
    "            \n",
    "        # Get the predictions\n",
    "        predictions = m.model.predict(X_proj)\n",
    "        # add the predictions to the data frame\n",
    "        df_new['predictions'] = predictions\n",
    "        # save the predictions\n",
    "        PATH_stat = PATH_OUT + '/' \n",
    "        os.makedirs(PATH_stat, exist_ok=True)\n",
    "        print('save predictions for', name_ch[i])\n",
    "        df_new.to_csv(PATH_stat + name_ch[i] + '.csv')\n",
    "        \n",
    "    l_predictions.append(df_new)\n",
    "        \n",
    "    return(l_predictions)"
   ]
  },
  {
   "cell_type": "code",
   "execution_count": 52,
   "id": "b7a8e3ea-3ea5-4843-a4af-de9e9a512a1c",
   "metadata": {},
   "outputs": [
    {
     "name": "stdout",
     "output_type": "stream",
     "text": [
      "0\n",
      "save predictions for SMHI-RCA-ECEARTH-EUR11-RCP85\n",
      "1\n",
      "save predictions for DMI-HIRHAM-ECEARTH-EUR11-RCP26\n",
      "2\n",
      "save predictions for SMHI-RCA-ECEARTH-EUR11-RCP45\n",
      "3\n",
      "save predictions for SMHI-RCA-MPIESM-EUR11-RCP85\n",
      "4\n",
      "save predictions for DMI-HIRHAM-ECEARTH-EUR11-RCP85\n",
      "5\n",
      "save predictions for SMHI-RCA-MPIESM-EUR11-RCP45\n",
      "6\n",
      "save predictions for DMI-HIRHAM-ECEARTH-EUR11-RCP45\n",
      "7\n",
      "save predictions for SMHI-RCA-ECEARTH-EUR11-RCP26\n",
      "8\n",
      "save predictions for SMHI-RCA-HADGEM-EUR11-RCP45\n",
      "9\n",
      "save predictions for SMHI-RCA-HADGEM-EUR11-RCP85\n"
     ]
    },
    {
     "data": {
      "text/plain": [
       "[            date    PREVAH     precip        t2m    t2mmax  Week     prec2W  \\\n",
       " 0     1981-01-01  0.715592   0.000000  -9.200866 -1.693530     0   1.974873   \n",
       " 1     1981-01-02  0.741041   3.949747  -1.415987  2.391529     0   1.994532   \n",
       " 2     1981-01-03  0.790163   0.039317  -5.224739 -2.725140     0   0.019658   \n",
       " 3     1981-01-04  0.740204   0.000000  -9.109478 -5.917553     0   0.000000   \n",
       " 4     1981-01-05  0.695980   0.000000 -11.109892 -9.137886     1   0.000000   \n",
       " ...          ...       ...        ...        ...       ...   ...        ...   \n",
       " 43459 2099-12-27  1.798306   0.020991  -3.810543 -0.855702    51   0.010496   \n",
       " 43460 2099-12-28  1.732367   0.000000  -5.510808 -0.206201    52   0.001681   \n",
       " 43461 2099-12-29  1.670898   0.003363  -0.827552  3.584162    52   0.428346   \n",
       " 43462 2099-12-30  1.618796   0.853330  -0.022501  4.294568    52  17.297493   \n",
       " 43463 2099-12-31  2.778694  33.741657   1.935253  5.552727    52  33.741657   \n",
       " \n",
       "           prec4W     prec6W   t2max2W   t2max4W   t2max6W      t2m2W  \\\n",
       " 0       1.329688   0.997266  0.349000 -0.675713 -1.986173  -5.308427   \n",
       " 1       0.997266   0.797813 -0.166805 -1.986173 -3.416516  -3.320363   \n",
       " 2       0.997266   0.664844 -4.321346 -3.847262 -4.347378  -7.167108   \n",
       " 3       0.009829   0.664844 -7.527719 -6.695566 -5.569763 -10.109685   \n",
       " 4       0.000000   0.006553 -9.069786 -8.271242 -7.596427 -11.443654   \n",
       " ...          ...        ...       ...       ...       ...        ...   \n",
       " 43459   0.045254   0.356545 -0.530952  1.340019  2.826984  -4.660676   \n",
       " 43460   0.219421   5.796001  1.688980  1.704207  2.534562  -3.169180   \n",
       " 43461   8.649587   6.923868  3.939365  3.306314  2.473911  -0.425026   \n",
       " 43462  11.532783   8.649587  4.923647  4.477152  3.306314   0.956376   \n",
       " 43463  17.297493  11.532783  5.552727  4.923647  4.477152   1.935253   \n",
       " \n",
       "            t2m4W      t2m6W  PREVAH2W  PREVAH4W  PREVAH6W  predictions  \n",
       " 0      -5.280531  -6.237768  0.728316  0.748932  0.746750  2321.800000  \n",
       " 1      -6.237768  -7.212192  0.765602  0.746750  0.736596  2338.000000  \n",
       " 2      -6.715024  -7.973063  0.765184  0.741847  0.725068  2367.200000  \n",
       " 3      -9.305381  -8.255340  0.718092  0.723444  0.713857  2168.200000  \n",
       " 4     -10.722829 -10.017721  0.681704  0.687985  0.695520  2088.400000  \n",
       " ...          ...        ...       ...       ...       ...          ...  \n",
       " 43459  -2.579334  -1.148134  1.765337  1.770097  1.771027  2827.400000  \n",
       " 43460  -2.542851  -1.400764  1.701633  1.705092  1.912980  2794.400000  \n",
       " 43461  -1.106402  -1.647230  1.644847  1.950189  1.919812  2976.685714  \n",
       " 43462   0.361734  -1.106402  2.198745  2.022796  1.950189  2698.685714  \n",
       " 43463   0.956376   0.361734  2.778694  2.198745  2.022796  2745.000000  \n",
       " \n",
       " [43464 rows x 19 columns]]"
      ]
     },
     "execution_count": 52,
     "metadata": {},
     "output_type": "execute_result"
    }
   ],
   "source": [
    "get_CH2018_Reser_predictions(PATH_CH2018, rf_mod[0], Features, PATH_OUT, mypipeline = None)"
   ]
  },
  {
   "cell_type": "code",
   "execution_count": null,
   "id": "2f903096-e1b2-4b4c-bb9a-7810b5872898",
   "metadata": {},
   "outputs": [],
   "source": []
  }
 ],
 "metadata": {
  "kernelspec": {
   "display_name": "py39",
   "language": "python",
   "name": "py39"
  },
  "language_info": {
   "codemirror_mode": {
    "name": "ipython",
    "version": 3
   },
   "file_extension": ".py",
   "mimetype": "text/x-python",
   "name": "python",
   "nbconvert_exporter": "python",
   "pygments_lexer": "ipython3",
   "version": "3.9.7"
  }
 },
 "nbformat": 4,
 "nbformat_minor": 5
}
